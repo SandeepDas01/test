{
 "cells": [
  {
   "cell_type": "code",
   "execution_count": 6,
   "metadata": {},
   "outputs": [
    {
     "name": "stdout",
     "output_type": "stream",
     "text": [
      "Enter are you hungryyes\n",
      "Eat samosa\n"
     ]
    }
   ],
   "source": [
    "n=input(\"Enter are you hungry\")\n",
    "if n==\"yes\":\n",
    "    print(\"Eat samosa\")\n",
    "else:\n",
    "    print(\"do your homework\")"
   ]
  },
  {
   "cell_type": "code",
   "execution_count": 7,
   "metadata": {},
   "outputs": [
    {
     "data": {
      "text/plain": [
       "['C:\\\\Users\\\\hp',\n",
       " 'C:\\\\Users\\\\hp\\\\anaconda3\\\\python38.zip',\n",
       " 'C:\\\\Users\\\\hp\\\\anaconda3\\\\DLLs',\n",
       " 'C:\\\\Users\\\\hp\\\\anaconda3\\\\lib',\n",
       " 'C:\\\\Users\\\\hp\\\\anaconda3',\n",
       " '',\n",
       " 'C:\\\\Users\\\\hp\\\\AppData\\\\Roaming\\\\Python\\\\Python38\\\\site-packages',\n",
       " 'C:\\\\Users\\\\hp\\\\anaconda3\\\\lib\\\\site-packages',\n",
       " 'C:\\\\Users\\\\hp\\\\anaconda3\\\\lib\\\\site-packages\\\\win32',\n",
       " 'C:\\\\Users\\\\hp\\\\anaconda3\\\\lib\\\\site-packages\\\\win32\\\\lib',\n",
       " 'C:\\\\Users\\\\hp\\\\anaconda3\\\\lib\\\\site-packages\\\\Pythonwin',\n",
       " 'C:\\\\Users\\\\hp\\\\anaconda3\\\\lib\\\\site-packages\\\\IPython\\\\extensions',\n",
       " 'C:\\\\Users\\\\hp\\\\.ipython']"
      ]
     },
     "execution_count": 7,
     "metadata": {},
     "output_type": "execute_result"
    }
   ],
   "source": [
    "import sys\n",
    "sys.path"
   ]
  },
  {
   "cell_type": "code",
   "execution_count": null,
   "metadata": {},
   "outputs": [],
   "source": []
  }
 ],
 "metadata": {
  "kernelspec": {
   "display_name": "Python 3",
   "language": "python",
   "name": "python3"
  },
  "language_info": {
   "codemirror_mode": {
    "name": "ipython",
    "version": 3
   },
   "file_extension": ".py",
   "mimetype": "text/x-python",
   "name": "python",
   "nbconvert_exporter": "python",
   "pygments_lexer": "ipython3",
   "version": "3.8.5"
  }
 },
 "nbformat": 4,
 "nbformat_minor": 4
}
